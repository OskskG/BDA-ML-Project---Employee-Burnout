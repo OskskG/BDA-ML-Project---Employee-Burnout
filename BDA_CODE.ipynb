{
 "cells": [
  {
   "cell_type": "code",
   "execution_count": 797,
   "metadata": {},
   "outputs": [],
   "source": [
    "import numpy as np\n",
    "import pandas as pd\n",
    "from sklearn.model_selection import train_test_split\n",
    "from sklearn.linear_model import LinearRegression\n",
    "from sklearn.linear_model import Ridge\n",
    "from sklearn.tree import DecisionTreeRegressor, plot_tree\n",
    "from sklearn.ensemble import RandomForestRegressor\n",
    "from sklearn.preprocessing import StandardScaler, MinMaxScaler\n",
    "from sklearn.neural_network import MLPRegressor\n",
    "from sklearn.svm import SVR\n",
    "import matplotlib.pyplot as plt \n",
    "import seaborn as sb\n",
    "import mglearn\n",
    "import graphviz\n",
    "\n",
    "\n",
    "\n"
   ]
  },
  {
   "cell_type": "markdown",
   "metadata": {},
   "source": [
    "Data exploration"
   ]
  },
  {
   "cell_type": "code",
   "execution_count": 798,
   "metadata": {},
   "outputs": [
    {
     "name": "stdout",
     "output_type": "stream",
     "text": [
      "<class 'pandas.core.frame.DataFrame'>\n",
      "RangeIndex: 22750 entries, 0 to 22749\n",
      "Data columns (total 9 columns):\n",
      " #   Column                Non-Null Count  Dtype  \n",
      "---  ------                --------------  -----  \n",
      " 0   Employee ID           22750 non-null  object \n",
      " 1   Date of Joining       22750 non-null  object \n",
      " 2   Gender                22750 non-null  object \n",
      " 3   Company Type          22750 non-null  object \n",
      " 4   WFH Setup Available   22750 non-null  object \n",
      " 5   Designation           22750 non-null  float64\n",
      " 6   Resource Allocation   21369 non-null  float64\n",
      " 7   Mental Fatigue Score  20633 non-null  float64\n",
      " 8   Burn Rate             21626 non-null  float64\n",
      "dtypes: float64(4), object(5)\n",
      "memory usage: 1.6+ MB\n",
      "                Employee ID Date of Joining  Gender Company Type  \\\n",
      "0  fffe32003000360033003200      2008-09-30  Female      Service   \n",
      "1      fffe3700360033003500      2008-11-30    Male      Service   \n",
      "2  fffe31003300320037003900      2008-03-10  Female      Product   \n",
      "3  fffe32003400380032003900      2008-11-03    Male      Service   \n",
      "4  fffe31003900340031003600      2008-07-24  Female      Service   \n",
      "\n",
      "  WFH Setup Available  Designation  Resource Allocation  Mental Fatigue Score  \\\n",
      "0                  No          2.0                  3.0                   3.8   \n",
      "1                 Yes          1.0                  2.0                   5.0   \n",
      "2                 Yes          2.0                  NaN                   5.8   \n",
      "3                 Yes          1.0                  1.0                   2.6   \n",
      "4                  No          3.0                  7.0                   6.9   \n",
      "\n",
      "   Burn Rate  \n",
      "0       0.16  \n",
      "1       0.36  \n",
      "2       0.49  \n",
      "3       0.20  \n",
      "4       0.52  \n",
      "        Designation  Resource Allocation  Mental Fatigue Score     Burn Rate\n",
      "count  22750.000000         21369.000000          20633.000000  21626.000000\n",
      "mean       2.178725             4.481398              5.728188      0.452005\n",
      "std        1.135145             2.047211              1.920839      0.198226\n",
      "min        0.000000             1.000000              0.000000      0.000000\n",
      "25%        1.000000             3.000000              4.600000      0.310000\n",
      "50%        2.000000             4.000000              5.900000      0.450000\n",
      "75%        3.000000             6.000000              7.100000      0.590000\n",
      "max        5.000000            10.000000             10.000000      1.000000\n"
     ]
    },
    {
     "data": {
      "text/plain": [
       "Employee ID                0\n",
       "Date of Joining            0\n",
       "Gender                     0\n",
       "Company Type               0\n",
       "WFH Setup Available        0\n",
       "Designation                0\n",
       "Resource Allocation     1381\n",
       "Mental Fatigue Score    2117\n",
       "Burn Rate               1124\n",
       "dtype: int64"
      ]
     },
     "execution_count": 798,
     "metadata": {},
     "output_type": "execute_result"
    }
   ],
   "source": [
    "data = pd.read_csv('train.csv')\n",
    "\n",
    "data.info()\n",
    "print(data.head())\n",
    "print(data.describe())\n",
    "data.isna().sum()\n",
    "\n",
    "\n",
    "\n",
    "\n"
   ]
  },
  {
   "cell_type": "code",
   "execution_count": 799,
   "metadata": {},
   "outputs": [
    {
     "data": {
      "image/png": "[encoded data removed]",
      "text/plain": [
       "<Figure size 432x288 with 2 Axes>"
      ]
     },
     "metadata": {
      "needs_background": "light"
     },
     "output_type": "display_data"
    }
   ],
   "source": [
    "correlation_plot = sb.heatmap(data.corr(), cmap='BuPu') #used GeeksforGeeks. (2020, November 13). How to create a seaborn correlation heatmap in Python? Retrieved May 23, 2022, from https://www.geeksforgeeks.org/how-to-create-a-seaborn-correlation-heatmap-in-python/\n",
    "plt.show()"
   ]
  },
  {
   "cell_type": "code",
   "execution_count": 800,
   "metadata": {},
   "outputs": [
    {
     "name": "stderr",
     "output_type": "stream",
     "text": [
      "/Users/apple/opt/anaconda3/lib/python3.8/site-packages/seaborn/_decorators.py:36: FutureWarning: Pass the following variable as a keyword arg: x. From version 0.12, the only valid positional argument will be `data`, and passing other arguments without an explicit keyword will result in an error or misinterpretation.\n",
      "  warnings.warn(\n"
     ]
    },
    {
     "data": {
      "image/png": "[encoded data removed]",
      "text/plain": [
       "<Figure size 864x432 with 1 Axes>"
      ]
     },
     "metadata": {
      "needs_background": "light"
     },
     "output_type": "display_data"
    }
   ],
   "source": [
    "plt.figure(figsize=(12,6))\n",
    "sb.boxplot(data['Mental Fatigue Score'])\n",
    "plt.show()\n",
    "\n"
   ]
  },
  {
   "cell_type": "markdown",
   "metadata": {},
   "source": [
    "Data preprocessing"
   ]
  },
  {
   "cell_type": "code",
   "execution_count": 801,
   "metadata": {},
   "outputs": [
    {
     "name": "stdout",
     "output_type": "stream",
     "text": [
      "       Gender Company Type WFH Setup Available  Designation  \\\n",
      "0      Female      Service                  No          2.0   \n",
      "1        Male      Service                 Yes          1.0   \n",
      "3        Male      Service                 Yes          1.0   \n",
      "4      Female      Service                  No          3.0   \n",
      "5        Male      Product                 Yes          2.0   \n",
      "...       ...          ...                 ...          ...   \n",
      "22743  Female      Product                 Yes          1.0   \n",
      "22744    Male      Product                  No          3.0   \n",
      "22746  Female      Product                 Yes          3.0   \n",
      "22748  Female      Service                  No          2.0   \n",
      "22749    Male      Product                  No          3.0   \n",
      "\n",
      "       Resource Allocation  Mental Fatigue Score  Burn Rate  \n",
      "0                      3.0                   3.8       0.16  \n",
      "1                      2.0                   5.0       0.36  \n",
      "3                      1.0                   2.6       0.20  \n",
      "4                      7.0                   6.9       0.52  \n",
      "5                      4.0                   3.6       0.29  \n",
      "...                    ...                   ...        ...  \n",
      "22743                  3.0                   6.0       0.48  \n",
      "22744                  7.0                   6.2       0.54  \n",
      "22746                  6.0                   6.7       0.59  \n",
      "22748                  5.0                   5.9       0.52  \n",
      "22749                  6.0                   7.8       0.61  \n",
      "\n",
      "[18590 rows x 7 columns]\n"
     ]
    },
    {
     "data": {
      "text/plain": [
       "0"
      ]
     },
     "execution_count": 801,
     "metadata": {},
     "output_type": "execute_result"
    }
   ],
   "source": [
    "\n",
    "data = data.drop(['Employee ID', 'Date of Joining'], axis = 1) #excluding \"Employee ID\" column from the data (not relevant for modelling)\n",
    "\n",
    "df = data.dropna() #dropping the rows where there is NaN value in any column\n",
    "print(df)\n",
    "\n",
    "df['Burn Rate'].isna().sum()"
   ]
  },
  {
   "cell_type": "code",
   "execution_count": 802,
   "metadata": {},
   "outputs": [
    {
     "name": "stdout",
     "output_type": "stream",
     "text": [
      "Female    9747\n",
      "Male      8843\n",
      "Name: Gender, dtype: int64\n",
      "Service    12174\n",
      "Product     6416\n",
      "Name: Company Type, dtype: int64\n",
      "Yes    10030\n",
      "No      8560\n",
      "Name: WFH Setup Available, dtype: int64\n",
      "       Gender  Company Type  WFH Setup Available  Designation  \\\n",
      "0           0             1                    0          2.0   \n",
      "1           1             1                    1          1.0   \n",
      "3           1             1                    1          1.0   \n",
      "4           0             1                    0          3.0   \n",
      "5           1             0                    1          2.0   \n",
      "...       ...           ...                  ...          ...   \n",
      "22743       0             0                    1          1.0   \n",
      "22744       1             0                    0          3.0   \n",
      "22746       0             0                    1          3.0   \n",
      "22748       0             1                    0          2.0   \n",
      "22749       1             0                    0          3.0   \n",
      "\n",
      "       Resource Allocation  Mental Fatigue Score  Burn Rate  \n",
      "0                      3.0                   3.8       0.16  \n",
      "1                      2.0                   5.0       0.36  \n",
      "3                      1.0                   2.6       0.20  \n",
      "4                      7.0                   6.9       0.52  \n",
      "5                      4.0                   3.6       0.29  \n",
      "...                    ...                   ...        ...  \n",
      "22743                  3.0                   6.0       0.48  \n",
      "22744                  7.0                   6.2       0.54  \n",
      "22746                  6.0                   6.7       0.59  \n",
      "22748                  5.0                   5.9       0.52  \n",
      "22749                  6.0                   7.8       0.61  \n",
      "\n",
      "[18590 rows x 7 columns]\n"
     ]
    },
    {
     "name": "stderr",
     "output_type": "stream",
     "text": [
      "<ipython-input-802-481fff84b73b>:5: SettingWithCopyWarning: \n",
      "A value is trying to be set on a copy of a slice from a DataFrame.\n",
      "Try using .loc[row_indexer,col_indexer] = value instead\n",
      "\n",
      "See the caveats in the documentation: https://pandas.pydata.org/pandas-docs/stable/user_guide/indexing.html#returning-a-view-versus-a-copy\n",
      "  df['Gender'] = data['Gender'].replace(['Female', 'Male'], [0, 1])\n",
      "<ipython-input-802-481fff84b73b>:6: SettingWithCopyWarning: \n",
      "A value is trying to be set on a copy of a slice from a DataFrame.\n",
      "Try using .loc[row_indexer,col_indexer] = value instead\n",
      "\n",
      "See the caveats in the documentation: https://pandas.pydata.org/pandas-docs/stable/user_guide/indexing.html#returning-a-view-versus-a-copy\n",
      "  df['Company Type'] = data['Company Type'].replace(['Product', 'Service'], [0, 1])\n",
      "<ipython-input-802-481fff84b73b>:7: SettingWithCopyWarning: \n",
      "A value is trying to be set on a copy of a slice from a DataFrame.\n",
      "Try using .loc[row_indexer,col_indexer] = value instead\n",
      "\n",
      "See the caveats in the documentation: https://pandas.pydata.org/pandas-docs/stable/user_guide/indexing.html#returning-a-view-versus-a-copy\n",
      "  df['WFH Setup Available'] = data['WFH Setup Available'].replace(['No', 'Yes'], [0, 1])\n"
     ]
    }
   ],
   "source": [
    "print(df[\"Gender\"].value_counts())\n",
    "print(df['Company Type'].value_counts())\n",
    "print(df['WFH Setup Available'].value_counts())\n",
    "\n",
    "df['Gender'] = data['Gender'].replace(['Female', 'Male'], [0, 1])\n",
    "df['Company Type'] = data['Company Type'].replace(['Product', 'Service'], [0, 1])\n",
    "df['WFH Setup Available'] = data['WFH Setup Available'].replace(['No', 'Yes'], [0, 1])\n",
    "\n",
    "\n",
    "\n",
    "\n",
    "\n",
    "print(df)"
   ]
  },
  {
   "cell_type": "markdown",
   "metadata": {},
   "source": [
    "Data modelling"
   ]
  },
  {
   "cell_type": "code",
   "execution_count": 803,
   "metadata": {},
   "outputs": [
    {
     "name": "stdout",
     "output_type": "stream",
     "text": [
      "       Gender  Company Type  WFH Setup Available  Designation  \\\n",
      "12166       1             0                    0          3.0   \n",
      "7365        1             1                    0          3.0   \n",
      "21421       0             1                    1          2.0   \n",
      "9933        1             1                    0          3.0   \n",
      "777         1             1                    0          2.0   \n",
      "...       ...           ...                  ...          ...   \n",
      "11313       0             1                    1          1.0   \n",
      "16107       0             0                    0          3.0   \n",
      "12081       0             0                    1          2.0   \n",
      "13253       0             0                    0          3.0   \n",
      "3325        1             1                    1          1.0   \n",
      "\n",
      "       Resource Allocation  Mental Fatigue Score  \n",
      "12166                  7.0                   8.0  \n",
      "7365                   7.0                   6.4  \n",
      "21421                  3.0                   5.2  \n",
      "9933                   5.0                   7.2  \n",
      "777                    5.0                   6.3  \n",
      "...                    ...                   ...  \n",
      "11313                  2.0                   4.2  \n",
      "16107                  5.0                   7.1  \n",
      "12081                  4.0                   3.0  \n",
      "13253                  6.0                   6.8  \n",
      "3325                   2.0                   3.8  \n",
      "\n",
      "[13942 rows x 6 columns]\n",
      "       Gender  Company Type  WFH Setup Available  Designation  \\\n",
      "1451        0             1                    0          4.0   \n",
      "5636        0             0                    1          2.0   \n",
      "7647        1             1                    1          2.0   \n",
      "18821       0             1                    1          4.0   \n",
      "4271        0             1                    1          2.0   \n",
      "...       ...           ...                  ...          ...   \n",
      "21582       0             0                    1          2.0   \n",
      "16046       0             1                    1          1.0   \n",
      "7877        1             0                    0          3.0   \n",
      "16482       0             1                    0          3.0   \n",
      "12387       0             1                    0          3.0   \n",
      "\n",
      "       Resource Allocation  Mental Fatigue Score  \n",
      "1451                   7.0                   6.8  \n",
      "5636                   5.0                   8.2  \n",
      "7647                   3.0                   6.9  \n",
      "18821                  9.0                   7.4  \n",
      "4271                   4.0                   4.6  \n",
      "...                    ...                   ...  \n",
      "21582                  2.0                   2.5  \n",
      "16046                  3.0                   3.5  \n",
      "7877                   6.0                   8.4  \n",
      "16482                  6.0                   7.5  \n",
      "12387                  8.0                   8.6  \n",
      "\n",
      "[4648 rows x 6 columns]\n"
     ]
    }
   ],
   "source": [
    "\n",
    "y = df['Burn Rate']\n",
    "X = df.drop('Burn Rate', axis = 1)\n",
    "\n",
    "#print(y)\n",
    "#print(X)\n",
    "\n",
    "X_train, X_test, y_train, y_test = train_test_split(X, y, random_state=0)\n",
    "\n",
    "scaler = StandardScaler() #applying StandarScaler\n",
    "scaler.fit(X_train)\n",
    "X_train_s = pd.DataFrame(scaler.transform(X_train), columns=X_train.columns, index=X_train.index) #taken from the kaggle notebook\n",
    "print(X_train)\n",
    "\n",
    "X_test_s = pd.DataFrame(scaler.transform(X_test), columns=X_test.columns, index=X_test.index)\n",
    "print(X_test)\n",
    "\n"
   ]
  },
  {
   "cell_type": "markdown",
   "metadata": {},
   "source": [
    "Models with StandardScaler"
   ]
  },
  {
   "cell_type": "code",
   "execution_count": 804,
   "metadata": {},
   "outputs": [
    {
     "name": "stdout",
     "output_type": "stream",
     "text": [
      "LinearRegression train score 0.9213002411038812\n",
      "LinearRegression test score 0.9186506933888854\n",
      "Ridge train score 0.9213002355026392\n",
      "Ridge test score 0.9186509742393502\n",
      "Decision Tree train score 0.8058630903484058\n",
      "Decision Tree test score 0.7968049927028416\n"
     ]
    },
    {
     "data": {
      "image/png": "[encoded data removed]",
      "text/plain": [
       "<Figure size 864x576 with 1 Axes>"
      ]
     },
     "metadata": {
      "needs_background": "light"
     },
     "output_type": "display_data"
    },
    {
     "name": "stdout",
     "output_type": "stream",
     "text": [
      "Random Forest train score 0.9524317266492208\n",
      "Random Forest test score 0.9122003200174782\n",
      "MLP Regressor train score 0.9259528718000832\n",
      "MLP Regressor test score 0.9222930154216459\n"
     ]
    }
   ],
   "source": [
    "linreg = LinearRegression().fit(X_train_s, y_train)\n",
    "print('LinearRegression train score', linreg.score(X_train_s, y_train))\n",
    "print('LinearRegression test score', linreg.score(X_test_s, y_test))\n",
    "\n",
    "\n",
    "ridge = Ridge().fit(X_train_s, y_train)\n",
    "print('Ridge train score', ridge.score(X_train_s, y_train))\n",
    "print('Ridge test score', ridge.score(X_test_s, y_test))\n",
    "\n",
    "tree_reg = DecisionTreeRegressor(max_depth=2).fit(X_train_s, y_train)\n",
    "print('Decision Tree train score', tree_reg.score(X_train_s, y_train))\n",
    "print('Decision Tree test score', tree_reg.score(X_test_s, y_test))\n",
    "\n",
    "plt.figure(figsize=(12,8))\n",
    "plot_tree(tree_reg, feature_names=df.columns, filled=True)\n",
    "plt.show()\n",
    "\n",
    "\n",
    "random_forest = RandomForestRegressor(n_estimators=1000, random_state=3).fit(X_train_s, y_train)\n",
    "print('Random Forest train score', random_forest.score(X_train_s, y_train))\n",
    "print('Random Forest test score', random_forest.score(X_test_s, y_test))\n",
    "\n",
    "mlp_regressor = MLPRegressor().fit(X_train_s, y_train)\n",
    "print('MLP Regressor train score', mlp_regressor.score(X_train_s, y_train))\n",
    "print('MLP Regressor test score', mlp_regressor.score(X_test_s, y_test))\n",
    "\n",
    "\n",
    "\n",
    "\n"
   ]
  },
  {
   "cell_type": "markdown",
   "metadata": {},
   "source": [
    "Parameter tunnig - Random Forest"
   ]
  },
  {
   "cell_type": "code",
   "execution_count": 805,
   "metadata": {},
   "outputs": [
    {
     "name": "stdout",
     "output_type": "stream",
     "text": [
      "Random Forest Train score:  0.948891080475741 Random Forest Test score:  0.9054290805137472 n_value  5\n",
      "Random Forest Train score:  0.9506326053970416 Random Forest Test score:  0.9098967090752113 n_value  10\n",
      "Random Forest Train score:  0.9520899835329968 Random Forest Test score:  0.9118312886337538 n_value  50\n",
      "Random Forest Train score:  0.9522473422162034 Random Forest Test score:  0.9119676283747793 n_value  100\n",
      "Random Forest Train score:  0.9524292750749977 Random Forest Test score:  0.9121972036425288 n_value  1000\n"
     ]
    }
   ],
   "source": [
    "n_list = [5, 10, 50, 100, 1000]\n",
    "results_list = []\n",
    "\n",
    "for n_value in n_list:\n",
    "    forest_clf = RandomForestRegressor(n_estimators=n_value).fit(X_train_s, y_train)\n",
    "    results = (forest_clf.score(X_train_s, y_train), forest_clf.score(X_test_s, y_test), n_value)\n",
    "    results_list.append(results)\n",
    "\n",
    "for res in results_list:\n",
    "    print('Random Forest Train score: ',res[0], 'Random Forest Test score: ',res[1], 'n_value ',res[2])\n",
    "\n",
    "\n",
    "\n"
   ]
  },
  {
   "cell_type": "markdown",
   "metadata": {},
   "source": [
    "Testing different values of alpha parameter - Ridge Regression"
   ]
  },
  {
   "cell_type": "code",
   "execution_count": 806,
   "metadata": {},
   "outputs": [
    {
     "name": "stdout",
     "output_type": "stream",
     "text": [
      "Ridge Train score  0.9213002411038757 Ridge Test score  0.9186506936754919 Alpha value  0.001\n",
      "Ridge Train score  0.9213002411033209 Ridge Test score  0.9186506962544326 Alpha value  0.01\n",
      "Ridge Train score  0.9213002355026392 Ridge Test score  0.9186509742393502 Alpha value  1\n",
      "Ridge Train score  0.9212996832363947 Ridge Test score  0.9186529856271121 Alpha value  10\n"
     ]
    }
   ],
   "source": [
    "\n",
    "alpha_list = [0.001, 0.01, 1, 10]\n",
    "ridge_results = []\n",
    "for a in alpha_list:\n",
    "    ridge_clf = Ridge(alpha=a).fit(X_train_s, y_train)\n",
    "    results = ridge_clf.score(X_train_s, y_train), ridge_clf.score(X_test_s, y_test), a\n",
    "    ridge_results.append(results)\n",
    "\n",
    "for res in ridge_results:\n",
    "    print('Ridge Train score ', res[0], 'Ridge Test score ', res[1], 'Alpha value ', res[2])\n"
   ]
  },
  {
   "cell_type": "markdown",
   "metadata": {},
   "source": [
    "Testing different values of max_depth - Decision Tree"
   ]
  },
  {
   "cell_type": "code",
   "execution_count": 807,
   "metadata": {},
   "outputs": [
    {
     "name": "stdout",
     "output_type": "stream",
     "text": [
      "Decision Tree Train score  0.8058630903484058 Decision Tree Test score  0.7968049927028416 Depth value  2\n",
      "Decision Tree Train score  0.876959760148396 Decision Tree Test score  0.8677330491684356 Depth value  3\n",
      "Decision Tree Train score  0.9170566463348879 Decision Tree Test score  0.9099216237018484 Depth value  5\n",
      "Decision Tree Train score  0.9370027641396101 Decision Tree Test score  0.9197186054084876 Depth value  10\n",
      "Decision Tree Train score  0.9539026913835904 Decision Tree Test score  0.8990097565762166 Depth value  None\n"
     ]
    }
   ],
   "source": [
    "depth_values = [2, 3, 5, 10, None]\n",
    "decision_tree_results = []\n",
    "for v in depth_values:\n",
    "    decision_tree_clf = DecisionTreeRegressor(max_depth=v).fit(X_train_s, y_train)\n",
    "    results = decision_tree_clf.score(X_train_s, y_train), decision_tree_clf.score(X_test_s, y_test), v\n",
    "    decision_tree_results.append(results)\n",
    "\n",
    "for res in decision_tree_results:\n",
    "    print('Decision Tree Train score ', res[0], 'Decision Tree Test score ', res[1], 'Depth value ', res[2])\n",
    "\n"
   ]
  },
  {
   "cell_type": "markdown",
   "metadata": {},
   "source": [
    "Partameter tuning - MLP"
   ]
  },
  {
   "cell_type": "code",
   "execution_count": 808,
   "metadata": {},
   "outputs": [
    {
     "name": "stdout",
     "output_type": "stream",
     "text": [
      "MLP Train score  0.9268330916695331 MLP Test score  0.9214923726052684 Hidden layers size  100\n",
      "MLP Train score  0.9266801768712387 MLP Test score  0.9228603525773781 Hidden layers size  120\n",
      "MLP Train score  0.9245152338597729 MLP Test score  0.9195596261662387 Hidden layers size  150\n",
      "MLP Train score  0.926832251930585 MLP Test score  0.9218669788928341 Hidden layers size  200\n",
      "MLP Train score  0.9281781319899484 MLP Test score  0.9232399903580667 Hidden layers size  300\n"
     ]
    }
   ],
   "source": [
    "hidden_layer_values = [100, 120, 150, 200, 300]\n",
    "mlp_regressor_results = []\n",
    "for v in hidden_layer_values:\n",
    "    mlp_regressor_clf = MLPRegressor(hidden_layer_sizes=v).fit(X_train_s, y_train)\n",
    "    results = mlp_regressor_clf.score(X_train_s, y_train), mlp_regressor_clf.score(X_test_s, y_test), v\n",
    "    mlp_regressor_results.append(results)\n",
    "\n",
    "for res in mlp_regressor_results:\n",
    "    print('MLP Train score ', res[0], 'MLP Test score ', res[1], 'Hidden layers size ', res[2])\n"
   ]
  },
  {
   "cell_type": "markdown",
   "metadata": {},
   "source": [
    "Feature importances - Random Forest"
   ]
  },
  {
   "cell_type": "code",
   "execution_count": 809,
   "metadata": {},
   "outputs": [
    {
     "data": {
      "image/png": "[encoded data removed]",
      "text/plain": [
       "<Figure size 432x288 with 1 Axes>"
      ]
     },
     "metadata": {
      "needs_background": "light"
     },
     "output_type": "display_data"
    }
   ],
   "source": [
    "\n",
    "features = df.columns #taken from https://stackoverflow.com/questions/44101458/random-forest-feature-importance-chart-using-python\n",
    "importances = random_forest.feature_importances_\n",
    "indices = np.argsort(importances)\n",
    "\n",
    "plt.title('Feature Importances Model 1')\n",
    "plt.barh(range(len(indices)), importances[indices], color='r', align='center', height=0.5)\n",
    "plt.yticks(range(len(indices)), [features[i] for i in indices])\n",
    "plt.xlabel('Relative Importance')\n",
    "plt.show()"
   ]
  },
  {
   "cell_type": "markdown",
   "metadata": {},
   "source": [
    "Creating model without \"Mental Fatigue Score\""
   ]
  },
  {
   "cell_type": "code",
   "execution_count": 810,
   "metadata": {},
   "outputs": [
    {
     "name": "stdout",
     "output_type": "stream",
     "text": [
      "       Gender  Company Type  WFH Setup Available  Designation  \\\n",
      "12166       1             0                    0          3.0   \n",
      "7365        1             1                    0          3.0   \n",
      "21421       0             1                    1          2.0   \n",
      "9933        1             1                    0          3.0   \n",
      "777         1             1                    0          2.0   \n",
      "...       ...           ...                  ...          ...   \n",
      "11313       0             1                    1          1.0   \n",
      "16107       0             0                    0          3.0   \n",
      "12081       0             0                    1          2.0   \n",
      "13253       0             0                    0          3.0   \n",
      "3325        1             1                    1          1.0   \n",
      "\n",
      "       Resource Allocation  \n",
      "12166                  7.0  \n",
      "7365                   7.0  \n",
      "21421                  3.0  \n",
      "9933                   5.0  \n",
      "777                    5.0  \n",
      "...                    ...  \n",
      "11313                  2.0  \n",
      "16107                  5.0  \n",
      "12081                  4.0  \n",
      "13253                  6.0  \n",
      "3325                   2.0  \n",
      "\n",
      "[13942 rows x 5 columns]\n",
      "       Gender  Company Type  WFH Setup Available  Designation  \\\n",
      "1451        0             1                    0          4.0   \n",
      "5636        0             0                    1          2.0   \n",
      "7647        1             1                    1          2.0   \n",
      "18821       0             1                    1          4.0   \n",
      "4271        0             1                    1          2.0   \n",
      "...       ...           ...                  ...          ...   \n",
      "21582       0             0                    1          2.0   \n",
      "16046       0             1                    1          1.0   \n",
      "7877        1             0                    0          3.0   \n",
      "16482       0             1                    0          3.0   \n",
      "12387       0             1                    0          3.0   \n",
      "\n",
      "       Resource Allocation  \n",
      "1451                   7.0  \n",
      "5636                   5.0  \n",
      "7647                   3.0  \n",
      "18821                  9.0  \n",
      "4271                   4.0  \n",
      "...                    ...  \n",
      "21582                  2.0  \n",
      "16046                  3.0  \n",
      "7877                   6.0  \n",
      "16482                  6.0  \n",
      "12387                  8.0  \n",
      "\n",
      "[4648 rows x 5 columns]\n"
     ]
    }
   ],
   "source": [
    "y2 = df['Burn Rate']\n",
    "X2 = df.drop(['Burn Rate', 'Mental Fatigue Score'], axis=1)\n",
    "\n",
    "#print(y)\n",
    "#print(X)\n",
    "\n",
    "X2_train, X2_test, y2_train, y2_test = train_test_split(X2, y2, random_state=0)\n",
    "\n",
    "scaler = StandardScaler() #applying StandarScaler\n",
    "scaler.fit(X2_train)\n",
    "X2_train_s = pd.DataFrame(scaler.transform(X2_train), columns=X2_train.columns, index=X2_train.index) #taken from the kaggle notebook\n",
    "print(X2_train)\n",
    "\n",
    "X2_test_s = pd.DataFrame(scaler.transform(X2_test), columns=X2_test.columns, index=X2_test.index)\n",
    "print(X2_test)\n",
    "\n"
   ]
  },
  {
   "cell_type": "markdown",
   "metadata": {},
   "source": [
    "Models without \"Mental Fatigue Score\" and with StandardScaler"
   ]
  },
  {
   "cell_type": "code",
   "execution_count": 811,
   "metadata": {},
   "outputs": [
    {
     "name": "stdout",
     "output_type": "stream",
     "text": [
      "LinearRegression train score 0.739005783373335\n",
      "LinearRegression test score 0.7315953171258204\n",
      "Ridge train score 0.7390057632225784\n",
      "Ridge test score 0.7315966439619103\n",
      "Decision Tree train score 0.7290730782314283\n",
      "Decision Tree test score 0.7218130386064762\n",
      "Random Forest train score 0.7567537454883823\n",
      "Random Forest test score 0.7425611645162482\n",
      "MLP Regressor train score 0.7488525093201115\n",
      "MLP Regressor test score 0.7390638217320202\n"
     ]
    }
   ],
   "source": [
    "linreg = LinearRegression().fit(X2_train_s, y2_train)\n",
    "print('LinearRegression train score', linreg.score(X2_train_s, y2_train))\n",
    "print('LinearRegression test score', linreg.score(X2_test_s, y2_test))\n",
    "\n",
    "ridge = Ridge().fit(X2_train_s, y2_train)\n",
    "print('Ridge train score', ridge.score(X2_train_s, y2_train))\n",
    "print('Ridge test score', ridge.score(X2_test_s, y2_test))\n",
    "\n",
    "tree_reg = DecisionTreeRegressor(max_depth=3).fit(X2_train_s, y2_train)\n",
    "print('Decision Tree train score', tree_reg.score(X2_train_s, y2_train))\n",
    "print('Decision Tree test score', tree_reg.score(X2_test_s, y2_test))\n",
    "\n",
    "\n",
    "\n",
    "random_forest = RandomForestRegressor(n_estimators=1000, random_state=3).fit(X2_train_s, y2_train)\n",
    "print('Random Forest train score', random_forest.score(X2_train_s, y2_train))\n",
    "print('Random Forest test score', random_forest.score(X2_test_s, y2_test))\n",
    "\n",
    "mlp_regressor = MLPRegressor().fit(X2_train_s, y2_train)\n",
    "print('MLP Regressor train score', mlp_regressor.score(X2_train_s, y2_train))\n",
    "print('MLP Regressor test score', mlp_regressor.score(X2_test_s, y2_test))\n",
    "\n"
   ]
  },
  {
   "cell_type": "markdown",
   "metadata": {},
   "source": [
    "Random Fores feature importance , StandardScaler - without \"Mental Fatigue Score\" "
   ]
  },
  {
   "cell_type": "code",
   "execution_count": 812,
   "metadata": {},
   "outputs": [
    {
     "data": {
      "image/png": "[encoded data removed]",
      "text/plain": [
       "<Figure size 432x288 with 1 Axes>"
      ]
     },
     "metadata": {
      "needs_background": "light"
     },
     "output_type": "display_data"
    }
   ],
   "source": [
    "features = df.columns #taken from https://stackoverflow.com/questions/44101458/random-forest-feature-importance-chart-using-python\n",
    "importances = random_forest.feature_importances_\n",
    "indices = np.argsort(importances)\n",
    "\n",
    "plt.title('Feature Importances Model 2')\n",
    "plt.barh(range(len(indices)), importances[indices], color='r', align='center', height=0.5)\n",
    "plt.yticks(range(len(indices)), [features[i] for i in indices])\n",
    "plt.xlabel('Relative Importance')\n",
    "plt.show()"
   ]
  },
  {
   "cell_type": "markdown",
   "metadata": {},
   "source": [
    "Parameter tuning in model 2"
   ]
  },
  {
   "cell_type": "code",
   "execution_count": 813,
   "metadata": {},
   "outputs": [
    {
     "name": "stdout",
     "output_type": "stream",
     "text": [
      "Random Forest Train score:  0.7561437330814589 Random Forest Test score:  0.7421247834519116 n_value  5\n",
      "Random Forest Train score:  0.7564941641763003 Random Forest Test score:  0.7425303169333375 n_value  10\n",
      "Random Forest Train score:  0.7566973004478627 Random Forest Test score:  0.7423662226729894 n_value  50\n",
      "Random Forest Train score:  0.7567315199412072 Random Forest Test score:  0.7424950922610394 n_value  100\n",
      "Random Forest Train score:  0.7567550066385456 Random Forest Test score:  0.7425115579432036 n_value  1000\n",
      "Ridge Train score  0.7390057833733148 Ridge Test score  0.7315953184741 Alpha value  0.001\n",
      "Ridge Train score  0.7390057833713175 Ridge Test score  0.7315953306066814 Alpha value  0.01\n",
      "Ridge Train score  0.7390057632225784 Ridge Test score  0.7315966439619103 Alpha value  1\n",
      "Ridge Train score  0.7390037890938368 Ridge Test score  0.7316066755046414 Alpha value  10\n",
      "Decision Tree Train score  0.6710356304728762 Decision Tree Test score  0.66105905577253 Depth value  2\n",
      "Decision Tree Train score  0.7290730782314283 Decision Tree Test score  0.7218130386064763 Depth value  3\n",
      "Decision Tree Train score  0.7509352534797049 Decision Tree Test score  0.7431707444449236 Depth value  5\n",
      "Decision Tree Train score  0.7567639410275946 Decision Tree Test score  0.7424744401384337 Depth value  10\n",
      "Decision Tree Train score  0.7567639410275946 Decision Tree Test score  0.7424740178645317 Depth value  None\n",
      "MLP Train score  0.7488001666135733 MLP Test score  0.737276103171831 Hidden layers size  100\n",
      "MLP Train score  0.7504554020005468 MLP Test score  0.7404359125488882 Hidden layers size  120\n",
      "MLP Train score  0.748998940687731 MLP Test score  0.7377866304203944 Hidden layers size  150\n",
      "MLP Train score  0.7490857074717895 MLP Test score  0.7376684027085906 Hidden layers size  200\n",
      "MLP Train score  0.7507474409145141 MLP Test score  0.7404898400804473 Hidden layers size  300\n"
     ]
    }
   ],
   "source": [
    "n_list = [5, 10, 50, 100, 1000] #Random forest\n",
    "results_list = []\n",
    "\n",
    "for n_value in n_list:\n",
    "    forest_clf = RandomForestRegressor(n_estimators=n_value).fit(X2_train_s, y2_train)\n",
    "    results = (forest_clf.score(X2_train_s, y2_train), forest_clf.score(X2_test_s, y2_test), n_value)\n",
    "    results_list.append(results)\n",
    "\n",
    "for res in results_list:\n",
    "    print('Random Forest Train score: ',res[0], 'Random Forest Test score: ',res[1], 'n_value ',res[2])\n",
    "\n",
    "\n",
    "\n",
    "\n",
    "alpha_list = [0.001, 0.01, 1, 10] #Ridge regression\n",
    "ridge_results = []\n",
    "for a in alpha_list:\n",
    "    ridge_clf = Ridge(alpha=a).fit(X2_train_s, y2_train)\n",
    "    results = ridge_clf.score(X2_train_s, y2_train), ridge_clf.score(X2_test_s, y2_test), a\n",
    "    ridge_results.append(results)\n",
    "\n",
    "for res in ridge_results:\n",
    "    print('Ridge Train score ', res[0], 'Ridge Test score ', res[1], 'Alpha value ', res[2])\n",
    "\n",
    "\n",
    "\n",
    "depth_values = [2, 3, 5, 10, None] #Decison Tree\n",
    "decision_tree_results = []\n",
    "for v in depth_values:\n",
    "    decision_tree_clf = DecisionTreeRegressor(max_depth=v).fit(X2_train_s, y2_train)\n",
    "    results = decision_tree_clf.score(X2_train_s, y2_train), decision_tree_clf.score(X2_test_s, y2_test), v\n",
    "    decision_tree_results.append(results)\n",
    "\n",
    "for res in decision_tree_results:\n",
    "    print('Decision Tree Train score ', res[0], 'Decision Tree Test score ', res[1], 'Depth value ', res[2])\n",
    "\n",
    "\n",
    "hidden_layer_values = [100, 120, 150, 200, 300] #MLP Regressor\n",
    "mlp_regressor_results = []\n",
    "for v in hidden_layer_values:\n",
    "    mlp_regressor_clf = MLPRegressor(hidden_layer_sizes=v).fit(X2_train_s, y2_train)\n",
    "    results = mlp_regressor_clf.score(X2_train_s, y2_train), mlp_regressor_clf.score(X2_test_s, y2_test), v\n",
    "    mlp_regressor_results.append(results)\n",
    "\n",
    "for res in mlp_regressor_results:\n",
    "    print('MLP Train score ', res[0], 'MLP Test score ', res[1], 'Hidden layers size ', res[2])\n",
    "\n"
   ]
  }
 ],
 "metadata": {
  "interpreter": {
   "hash": "cf1ee66cb0a5dbbe9b15b35d8b5ef163dfe6de55254de5ac3d70cf481ad0a057"
  },
  "kernelspec": {
   "display_name": "Python 3.8.8 ('base')",
   "language": "python",
   "name": "python3"
  },
  "language_info": {
   "codemirror_mode": {
    "name": "ipython",
    "version": 3
   },
   "file_extension": ".py",
   "mimetype": "text/x-python",
   "name": "python",
   "nbconvert_exporter": "python",
   "pygments_lexer": "ipython3",
   "version": "3.8.8"
  },
  "orig_nbformat": 4
 },
 "nbformat": 4,
 "nbformat_minor": 2
}
